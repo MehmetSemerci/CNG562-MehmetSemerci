{
  "nbformat": 4,
  "nbformat_minor": 0,
  "metadata": {
    "colab": {
      "name": "SEMERCI_adult_census_income.ipynb",
      "version": "0.3.2",
      "provenance": [],
      "collapsed_sections": [],
      "include_colab_link": true
    },
    "kernelspec": {
      "name": "python3",
      "display_name": "Python 3"
    }
  },
  "cells": [
    {
      "cell_type": "markdown",
      "metadata": {
        "id": "view-in-github",
        "colab_type": "text"
      },
      "source": [
        "<a href=\"https://colab.research.google.com/github/MehmetSemerci/CNG562-MehmetSemerci/blob/master/SEMERCI_adult_census_income.ipynb\" target=\"_parent\"><img src=\"https://colab.research.google.com/assets/colab-badge.svg\" alt=\"Open In Colab\"/></a>"
      ]
    },
    {
      "metadata": {
        "id": "ZWdMrPnYgZWS",
        "colab_type": "code",
        "colab": {
          "base_uri": "https://localhost:8080/",
          "height": 50
        },
        "outputId": "b7d349f2-a923-42af-8a52-e5c922328414"
      },
      "cell_type": "code",
      "source": [
        "!pip install -U -q PyDrive\n",
        "from pydrive.auth import GoogleAuth\n",
        "from pydrive.drive import GoogleDrive\n",
        "from google.colab import auth\n",
        "from oauth2client.client import GoogleCredentials\n",
        "# Authenticate and create the PyDrive client.\n",
        "auth.authenticate_user()\n",
        "gauth = GoogleAuth()\n",
        "gauth.credentials = GoogleCredentials.get_application_default()\n",
        "drive = GoogleDrive(gauth)"
      ],
      "execution_count": 3,
      "outputs": [
        {
          "output_type": "stream",
          "text": [
            "\u001b[?25l\r\u001b[K    1% |▎                               | 10kB 18.3MB/s eta 0:00:01\r\u001b[K    2% |▋                               | 20kB 1.9MB/s eta 0:00:01\r\u001b[K    3% |█                               | 30kB 2.7MB/s eta 0:00:01\r\u001b[K    4% |█▎                              | 40kB 1.8MB/s eta 0:00:01\r\u001b[K    5% |█▋                              | 51kB 2.2MB/s eta 0:00:01\r\u001b[K    6% |██                              | 61kB 2.6MB/s eta 0:00:01\r\u001b[K    7% |██▎                             | 71kB 3.0MB/s eta 0:00:01\r\u001b[K    8% |██▋                             | 81kB 3.3MB/s eta 0:00:01\r\u001b[K    9% |███                             | 92kB 3.7MB/s eta 0:00:01\r\u001b[K    10% |███▎                            | 102kB 2.9MB/s eta 0:00:01\r\u001b[K    11% |███▋                            | 112kB 2.9MB/s eta 0:00:01\r\u001b[K    12% |████                            | 122kB 4.0MB/s eta 0:00:01\r\u001b[K    13% |████▎                           | 133kB 4.0MB/s eta 0:00:01\r\u001b[K    14% |████▋                           | 143kB 7.6MB/s eta 0:00:01\r\u001b[K    15% |█████                           | 153kB 7.7MB/s eta 0:00:01\r\u001b[K    16% |█████▎                          | 163kB 7.7MB/s eta 0:00:01\r\u001b[K    17% |█████▋                          | 174kB 7.7MB/s eta 0:00:01\r\u001b[K    18% |██████                          | 184kB 7.8MB/s eta 0:00:01\r\u001b[K    19% |██████▎                         | 194kB 7.8MB/s eta 0:00:01\r\u001b[K    20% |██████▋                         | 204kB 39.9MB/s eta 0:00:01\r\u001b[K    21% |███████                         | 215kB 8.6MB/s eta 0:00:01\r\u001b[K    22% |███████▎                        | 225kB 8.6MB/s eta 0:00:01\r\u001b[K    23% |███████▋                        | 235kB 8.7MB/s eta 0:00:01\r\u001b[K    24% |████████                        | 245kB 8.7MB/s eta 0:00:01\r\u001b[K    25% |████████▎                       | 256kB 8.7MB/s eta 0:00:01\r\u001b[K    26% |████████▋                       | 266kB 8.4MB/s eta 0:00:01\r\u001b[K    27% |█████████                       | 276kB 8.5MB/s eta 0:00:01\r\u001b[K    29% |█████████▎                      | 286kB 8.5MB/s eta 0:00:01\r\u001b[K    30% |█████████▋                      | 296kB 8.4MB/s eta 0:00:01\r\u001b[K    31% |██████████                      | 307kB 8.7MB/s eta 0:00:01\r\u001b[K    32% |██████████▎                     | 317kB 47.2MB/s eta 0:00:01\r\u001b[K    33% |██████████▋                     | 327kB 49.8MB/s eta 0:00:01\r\u001b[K    34% |███████████                     | 337kB 50.8MB/s eta 0:00:01\r\u001b[K    35% |███████████▎                    | 348kB 46.2MB/s eta 0:00:01\r\u001b[K    36% |███████████▋                    | 358kB 48.0MB/s eta 0:00:01\r\u001b[K    37% |████████████                    | 368kB 59.0MB/s eta 0:00:01\r\u001b[K    38% |████████████▎                   | 378kB 59.8MB/s eta 0:00:01\r\u001b[K    39% |████████████▋                   | 389kB 61.5MB/s eta 0:00:01\r\u001b[K    40% |█████████████                   | 399kB 9.9MB/s eta 0:00:01\r\u001b[K    41% |█████████████▎                  | 409kB 9.8MB/s eta 0:00:01\r\u001b[K    42% |█████████████▋                  | 419kB 9.7MB/s eta 0:00:01\r\u001b[K    43% |██████████████                  | 430kB 9.7MB/s eta 0:00:01\r\u001b[K    44% |██████████████▎                 | 440kB 9.7MB/s eta 0:00:01\r\u001b[K    45% |██████████████▋                 | 450kB 9.6MB/s eta 0:00:01\r\u001b[K    46% |███████████████                 | 460kB 9.6MB/s eta 0:00:01\r\u001b[K    47% |███████████████▎                | 471kB 9.6MB/s eta 0:00:01\r\u001b[K    48% |███████████████▋                | 481kB 9.6MB/s eta 0:00:01\r\u001b[K    49% |████████████████                | 491kB 9.6MB/s eta 0:00:01\r\u001b[K    50% |████████████████▎               | 501kB 51.9MB/s eta 0:00:01\r\u001b[K    51% |████████████████▋               | 512kB 49.6MB/s eta 0:00:01\r\u001b[K    52% |█████████████████               | 522kB 49.7MB/s eta 0:00:01\r\u001b[K    53% |█████████████████▎              | 532kB 49.8MB/s eta 0:00:01\r\u001b[K    54% |█████████████████▋              | 542kB 50.7MB/s eta 0:00:01\r\u001b[K    55% |██████████████████              | 552kB 61.5MB/s eta 0:00:01\r\u001b[K    57% |██████████████████▎             | 563kB 64.9MB/s eta 0:00:01\r\u001b[K    58% |██████████████████▋             | 573kB 63.2MB/s eta 0:00:01\r\u001b[K    59% |███████████████████             | 583kB 63.4MB/s eta 0:00:01\r\u001b[K    60% |███████████████████▎            | 593kB 61.6MB/s eta 0:00:01\r\u001b[K    61% |███████████████████▋            | 604kB 61.8MB/s eta 0:00:01\r\u001b[K    62% |████████████████████            | 614kB 71.1MB/s eta 0:00:01\r\u001b[K    63% |████████████████████▎           | 624kB 72.9MB/s eta 0:00:01\r\u001b[K    64% |████████████████████▋           | 634kB 74.2MB/s eta 0:00:01\r\u001b[K    65% |█████████████████████           | 645kB 74.0MB/s eta 0:00:01\r\u001b[K    66% |█████████████████████▎          | 655kB 73.7MB/s eta 0:00:01\r\u001b[K    67% |█████████████████████▋          | 665kB 50.2MB/s eta 0:00:01\r\u001b[K    68% |██████████████████████          | 675kB 50.5MB/s eta 0:00:01\r\u001b[K    69% |██████████████████████▎         | 686kB 49.7MB/s eta 0:00:01\r\u001b[K    70% |██████████████████████▋         | 696kB 50.8MB/s eta 0:00:01\r\u001b[K    71% |███████████████████████         | 706kB 50.4MB/s eta 0:00:01\r\u001b[K    72% |███████████████████████▎        | 716kB 50.8MB/s eta 0:00:01\r\u001b[K    73% |███████████████████████▋        | 727kB 50.6MB/s eta 0:00:01\r\u001b[K    74% |████████████████████████        | 737kB 50.6MB/s eta 0:00:01\r\u001b[K    75% |████████████████████████▎       | 747kB 51.5MB/s eta 0:00:01\r\u001b[K    76% |████████████████████████▋       | 757kB 51.5MB/s eta 0:00:01\r\u001b[K    77% |████████████████████████▉       | 768kB 76.1MB/s eta 0:00:01\r\u001b[K    78% |█████████████████████████▏      | 778kB 77.8MB/s eta 0:00:01\r\u001b[K    79% |█████████████████████████▌      | 788kB 79.1MB/s eta 0:00:01\r\u001b[K    80% |█████████████████████████▉      | 798kB 80.6MB/s eta 0:00:01\r\u001b[K    81% |██████████████████████████▏     | 808kB 80.8MB/s eta 0:00:01\r\u001b[K    82% |██████████████████████████▌     | 819kB 15.4MB/s eta 0:00:01\r\u001b[K    83% |██████████████████████████▉     | 829kB 15.4MB/s eta 0:00:01\r\u001b[K    85% |███████████████████████████▏    | 839kB 15.3MB/s eta 0:00:01\r\u001b[K    86% |███████████████████████████▌    | 849kB 15.2MB/s eta 0:00:01\r\u001b[K    87% |███████████████████████████▉    | 860kB 14.3MB/s eta 0:00:01\r\u001b[K    88% |████████████████████████████▏   | 870kB 14.3MB/s eta 0:00:01\r\u001b[K    89% |████████████████████████████▌   | 880kB 14.3MB/s eta 0:00:01\r\u001b[K    90% |████████████████████████████▉   | 890kB 14.2MB/s eta 0:00:01\r\u001b[K    91% |█████████████████████████████▏  | 901kB 14.1MB/s eta 0:00:01\r\u001b[K    92% |█████████████████████████████▌  | 911kB 14.1MB/s eta 0:00:01\r\u001b[K    93% |█████████████████████████████▉  | 921kB 54.3MB/s eta 0:00:01\r\u001b[K    94% |██████████████████████████████▏ | 931kB 55.4MB/s eta 0:00:01\r\u001b[K    95% |██████████████████████████████▌ | 942kB 56.3MB/s eta 0:00:01\r\u001b[K    96% |██████████████████████████████▉ | 952kB 56.6MB/s eta 0:00:01\r\u001b[K    97% |███████████████████████████████▏| 962kB 74.2MB/s eta 0:00:01\r\u001b[K    98% |███████████████████████████████▌| 972kB 76.4MB/s eta 0:00:01\r\u001b[K    99% |███████████████████████████████▉| 983kB 76.7MB/s eta 0:00:01\r\u001b[K    100% |████████████████████████████████| 993kB 19.4MB/s \n",
            "\u001b[?25h  Building wheel for PyDrive (setup.py) ... \u001b[?25ldone\n",
            "\u001b[?25h"
          ],
          "name": "stdout"
        }
      ]
    },
    {
      "metadata": {
        "id": "QpVixBBIg2iQ",
        "colab_type": "code",
        "colab": {
          "base_uri": "https://localhost:8080/",
          "height": 279
        },
        "outputId": "5b07efa5-47db-4c2a-fc04-6b1b307aa245"
      },
      "cell_type": "code",
      "source": [
        "import pandas as pd\n",
        "link = 'https://drive.google.com/open?id=1bqHcBDWKJg-hhbuUgC2tj0B8AlY-BKnl' # The shareable link\n",
        "fluff, id = link.split('=')\n",
        "print (id) # Verify that you have everything after '='\n",
        "downloaded = drive.CreateFile({'id':id}) \n",
        "downloaded.GetContentFile('adult.csv')  \n",
        "df3 = pd.read_csv('adult.csv')\n",
        "df3.head()\n",
        "# Dataset is now stored in a Pandas Dataframe"
      ],
      "execution_count": 5,
      "outputs": [
        {
          "output_type": "stream",
          "text": [
            "1bqHcBDWKJg-hhbuUgC2tj0B8AlY-BKnl\n"
          ],
          "name": "stdout"
        },
        {
          "output_type": "execute_result",
          "data": {
            "text/html": [
              "<div>\n",
              "<style scoped>\n",
              "    .dataframe tbody tr th:only-of-type {\n",
              "        vertical-align: middle;\n",
              "    }\n",
              "\n",
              "    .dataframe tbody tr th {\n",
              "        vertical-align: top;\n",
              "    }\n",
              "\n",
              "    .dataframe thead th {\n",
              "        text-align: right;\n",
              "    }\n",
              "</style>\n",
              "<table border=\"1\" class=\"dataframe\">\n",
              "  <thead>\n",
              "    <tr style=\"text-align: right;\">\n",
              "      <th></th>\n",
              "      <th>age</th>\n",
              "      <th>workclass</th>\n",
              "      <th>fnlwgt</th>\n",
              "      <th>education</th>\n",
              "      <th>education.num</th>\n",
              "      <th>marital.status</th>\n",
              "      <th>occupation</th>\n",
              "      <th>relationship</th>\n",
              "      <th>race</th>\n",
              "      <th>sex</th>\n",
              "      <th>capital.gain</th>\n",
              "      <th>capital.loss</th>\n",
              "      <th>hours.per.week</th>\n",
              "      <th>native.country</th>\n",
              "      <th>income</th>\n",
              "    </tr>\n",
              "  </thead>\n",
              "  <tbody>\n",
              "    <tr>\n",
              "      <th>0</th>\n",
              "      <td>90</td>\n",
              "      <td>?</td>\n",
              "      <td>77053</td>\n",
              "      <td>HS-grad</td>\n",
              "      <td>9</td>\n",
              "      <td>Widowed</td>\n",
              "      <td>?</td>\n",
              "      <td>Not-in-family</td>\n",
              "      <td>White</td>\n",
              "      <td>Female</td>\n",
              "      <td>0</td>\n",
              "      <td>4356</td>\n",
              "      <td>40</td>\n",
              "      <td>United-States</td>\n",
              "      <td>&lt;=50K</td>\n",
              "    </tr>\n",
              "    <tr>\n",
              "      <th>1</th>\n",
              "      <td>82</td>\n",
              "      <td>Private</td>\n",
              "      <td>132870</td>\n",
              "      <td>HS-grad</td>\n",
              "      <td>9</td>\n",
              "      <td>Widowed</td>\n",
              "      <td>Exec-managerial</td>\n",
              "      <td>Not-in-family</td>\n",
              "      <td>White</td>\n",
              "      <td>Female</td>\n",
              "      <td>0</td>\n",
              "      <td>4356</td>\n",
              "      <td>18</td>\n",
              "      <td>United-States</td>\n",
              "      <td>&lt;=50K</td>\n",
              "    </tr>\n",
              "    <tr>\n",
              "      <th>2</th>\n",
              "      <td>66</td>\n",
              "      <td>?</td>\n",
              "      <td>186061</td>\n",
              "      <td>Some-college</td>\n",
              "      <td>10</td>\n",
              "      <td>Widowed</td>\n",
              "      <td>?</td>\n",
              "      <td>Unmarried</td>\n",
              "      <td>Black</td>\n",
              "      <td>Female</td>\n",
              "      <td>0</td>\n",
              "      <td>4356</td>\n",
              "      <td>40</td>\n",
              "      <td>United-States</td>\n",
              "      <td>&lt;=50K</td>\n",
              "    </tr>\n",
              "    <tr>\n",
              "      <th>3</th>\n",
              "      <td>54</td>\n",
              "      <td>Private</td>\n",
              "      <td>140359</td>\n",
              "      <td>7th-8th</td>\n",
              "      <td>4</td>\n",
              "      <td>Divorced</td>\n",
              "      <td>Machine-op-inspct</td>\n",
              "      <td>Unmarried</td>\n",
              "      <td>White</td>\n",
              "      <td>Female</td>\n",
              "      <td>0</td>\n",
              "      <td>3900</td>\n",
              "      <td>40</td>\n",
              "      <td>United-States</td>\n",
              "      <td>&lt;=50K</td>\n",
              "    </tr>\n",
              "    <tr>\n",
              "      <th>4</th>\n",
              "      <td>41</td>\n",
              "      <td>Private</td>\n",
              "      <td>264663</td>\n",
              "      <td>Some-college</td>\n",
              "      <td>10</td>\n",
              "      <td>Separated</td>\n",
              "      <td>Prof-specialty</td>\n",
              "      <td>Own-child</td>\n",
              "      <td>White</td>\n",
              "      <td>Female</td>\n",
              "      <td>0</td>\n",
              "      <td>3900</td>\n",
              "      <td>40</td>\n",
              "      <td>United-States</td>\n",
              "      <td>&lt;=50K</td>\n",
              "    </tr>\n",
              "  </tbody>\n",
              "</table>\n",
              "</div>"
            ],
            "text/plain": [
              "   age workclass  fnlwgt     education  education.num marital.status  \\\n",
              "0   90         ?   77053       HS-grad              9        Widowed   \n",
              "1   82   Private  132870       HS-grad              9        Widowed   \n",
              "2   66         ?  186061  Some-college             10        Widowed   \n",
              "3   54   Private  140359       7th-8th              4       Divorced   \n",
              "4   41   Private  264663  Some-college             10      Separated   \n",
              "\n",
              "          occupation   relationship   race     sex  capital.gain  \\\n",
              "0                  ?  Not-in-family  White  Female             0   \n",
              "1    Exec-managerial  Not-in-family  White  Female             0   \n",
              "2                  ?      Unmarried  Black  Female             0   \n",
              "3  Machine-op-inspct      Unmarried  White  Female             0   \n",
              "4     Prof-specialty      Own-child  White  Female             0   \n",
              "\n",
              "   capital.loss  hours.per.week native.country income  \n",
              "0          4356              40  United-States  <=50K  \n",
              "1          4356              18  United-States  <=50K  \n",
              "2          4356              40  United-States  <=50K  \n",
              "3          3900              40  United-States  <=50K  \n",
              "4          3900              40  United-States  <=50K  "
            ]
          },
          "metadata": {
            "tags": []
          },
          "execution_count": 5
        }
      ]
    }
  ]
}