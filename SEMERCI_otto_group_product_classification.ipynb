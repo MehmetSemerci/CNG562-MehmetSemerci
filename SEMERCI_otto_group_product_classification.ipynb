{
  "nbformat": 4,
  "nbformat_minor": 0,
  "metadata": {
    "colab": {
      "name": "SEMERCI_otto_group_product_classification.ipynb",
      "version": "0.3.2",
      "provenance": [],
      "collapsed_sections": [],
      "include_colab_link": true
    },
    "kernelspec": {
      "name": "python3",
      "display_name": "Python 3"
    }
  },
  "cells": [
    {
      "cell_type": "markdown",
      "metadata": {
        "id": "view-in-github",
        "colab_type": "text"
      },
      "source": [
        "<a href=\"https://colab.research.google.com/github/MehmetSemerci/CNG562-MehmetSemerci/blob/master/SEMERCI_otto_group_product_classification.ipynb\" target=\"_parent\"><img src=\"https://colab.research.google.com/assets/colab-badge.svg\" alt=\"Open In Colab\"/></a>"
      ]
    },
    {
      "cell_type": "code",
      "metadata": {
        "id": "D-AHZAUhSOYD",
        "colab_type": "code",
        "colab": {}
      },
      "source": [
        "import pandas as pd\n",
        "import matplotlib.pyplot as plt\n",
        "import tensorflow as tf\n",
        "import numpy as np\n",
        "from sklearn.preprocessing import LabelEncoder\n",
        "from sklearn.utils import shuffle\n",
        "from sklearn.model_selection import train_test_split\n",
        "\n",
        "url = 'https://raw.githubusercontent.com/MehmetSemerci/CNG562-MehmetSemerci/master/OttoTrain.csv'\n",
        "df = pd.read_csv(url)\n",
        "\n",
        "#\n",
        "df[df.columns[94]]=df[df.columns[94]].replace(\"Class_1\",1)\n",
        "df[df.columns[94]]=df[df.columns[94]].replace(\"Class_2\",2)\n",
        "df[df.columns[94]]=df[df.columns[94]].replace(\"Class_3\",3)\n",
        "df[df.columns[94]]=df[df.columns[94]].replace(\"Class_4\",4)\n",
        "df[df.columns[94]]=df[df.columns[94]].replace(\"Class_5\",5)\n",
        "df[df.columns[94]]=df[df.columns[94]].replace(\"Class_6\",6)\n",
        "df[df.columns[94]]=df[df.columns[94]].replace(\"Class_7\",7)\n",
        "df[df.columns[94]]=df[df.columns[94]].replace(\"Class_8\",8)\n",
        "df[df.columns[94]]=df[df.columns[94]].replace(\"Class_9\",9)\n",
        "\n",
        "\n",
        "x = df[df.columns[1:94]].values\n",
        "y = df[df.columns[94]]\n"
      ],
      "execution_count": 0,
      "outputs": []
    },
    {
      "cell_type": "markdown",
      "metadata": {
        "id": "bwELnqCd0n5S",
        "colab_type": "text"
      },
      "source": [
        "# Multi-layer Perceptron (MLP)"
      ]
    },
    {
      "cell_type": "code",
      "metadata": {
        "id": "ORYBjqppnvDT",
        "colab_type": "code",
        "outputId": "4ab1048f-bed7-4c47-8917-bc194343a1ae",
        "colab": {
          "base_uri": "https://localhost:8080/",
          "height": 72
        }
      },
      "source": [
        "from sklearn.neural_network import MLPClassifier\n",
        "\n",
        "x_train, x_test, y_train, y_test = train_test_split(x,y, test_size= 0.20, random_state=27)\n",
        "\n",
        "clf = MLPClassifier(hidden_layer_sizes=(70,35,15), max_iter=300, alpha=0.0001,\n",
        "                     solver='sgd',  random_state=21,tol=0.000000001)\n",
        "\n",
        "\n",
        "clf.fit(x_train, y_train)\n",
        "y_pred = clf.predict(x_test)\n"
      ],
      "execution_count": 4,
      "outputs": [
        {
          "output_type": "stream",
          "text": [
            "/usr/local/lib/python3.6/dist-packages/sklearn/neural_network/multilayer_perceptron.py:566: ConvergenceWarning: Stochastic Optimizer: Maximum iterations (300) reached and the optimization hasn't converged yet.\n",
            "  % self.max_iter, ConvergenceWarning)\n"
          ],
          "name": "stderr"
        }
      ]
    },
    {
      "cell_type": "code",
      "metadata": {
        "id": "psSfcFGptZLr",
        "colab_type": "code",
        "colab": {
          "base_uri": "https://localhost:8080/",
          "height": 35
        },
        "outputId": "90855b47-fd33-40fc-addd-ba00431b1b34"
      },
      "source": [
        "from sklearn.metrics import accuracy_score\n",
        "\n",
        "accuracy_score(y_test, y_pred)"
      ],
      "execution_count": 5,
      "outputs": [
        {
          "output_type": "execute_result",
          "data": {
            "text/plain": [
              "0.7916936005171299"
            ]
          },
          "metadata": {
            "tags": []
          },
          "execution_count": 5
        }
      ]
    },
    {
      "cell_type": "markdown",
      "metadata": {
        "id": "jouqHNhY0yie",
        "colab_type": "text"
      },
      "source": [
        "#KNN"
      ]
    },
    {
      "cell_type": "code",
      "metadata": {
        "id": "LWxlNuunX2cS",
        "colab_type": "code",
        "outputId": "7d7d8d34-e6b0-4148-dc90-d039bc18b0aa",
        "colab": {
          "base_uri": "https://localhost:8080/",
          "height": 35
        }
      },
      "source": [
        "from sklearn.neighbors import KNeighborsClassifier\n",
        "\n",
        "knn = KNeighborsClassifier(n_neighbors=5)\n",
        "\n",
        "knn.fit(x_train, y_train)\n",
        "\n",
        "predictknn = knn.predict(x_test)\n",
        "\n",
        "accuracy_score(y_test,predictknn)"
      ],
      "execution_count": 6,
      "outputs": [
        {
          "output_type": "execute_result",
          "data": {
            "text/plain": [
              "0.7740788623141565"
            ]
          },
          "metadata": {
            "tags": []
          },
          "execution_count": 6
        }
      ]
    },
    {
      "cell_type": "markdown",
      "metadata": {
        "id": "mTqw46F200ZS",
        "colab_type": "text"
      },
      "source": [
        "# SVM"
      ]
    },
    {
      "cell_type": "code",
      "metadata": {
        "id": "AU_DDXmH0QNn",
        "colab_type": "code",
        "colab": {
          "base_uri": "https://localhost:8080/",
          "height": 35
        },
        "outputId": "01d23987-bae4-42fb-9a0a-d148f006a16e"
      },
      "source": [
        "from sklearn.svm import SVC  \n",
        "\n",
        "svclassifier = SVC(kernel='linear')  \n",
        "\n",
        "svclassifier.fit(x_train, y_train)  \n",
        "\n",
        "y_pred = svclassifier.predict(x_test)  \n",
        "\n",
        "accuracy_score(y_test, y_pred)"
      ],
      "execution_count": 8,
      "outputs": [
        {
          "output_type": "execute_result",
          "data": {
            "text/plain": [
              "0.7694731738849386"
            ]
          },
          "metadata": {
            "tags": []
          },
          "execution_count": 8
        }
      ]
    },
    {
      "cell_type": "markdown",
      "metadata": {
        "id": "irVGgMUR3v4U",
        "colab_type": "text"
      },
      "source": [
        "#Random Forest"
      ]
    },
    {
      "cell_type": "markdown",
      "metadata": {
        "id": "8fFDQ_Ha5_VX",
        "colab_type": "text"
      },
      "source": [
        "#XGBoost"
      ]
    },
    {
      "cell_type": "code",
      "metadata": {
        "id": "_fMdFW736BZr",
        "colab_type": "code",
        "colab": {
          "base_uri": "https://localhost:8080/",
          "height": 35
        },
        "outputId": "e799ed0c-617e-4346-e43c-8b131f478334"
      },
      "source": [
        "\n",
        "from xgboost import XGBClassifier\n",
        "\n",
        "\n",
        "model = XGBClassifier()\n",
        "model.fit(x_train, y_train)\n",
        "\n",
        "\n",
        "y_pred = model.predict(x_test)\n",
        "accuracy_score(y_test, y_pred)"
      ],
      "execution_count": 13,
      "outputs": [
        {
          "output_type": "execute_result",
          "data": {
            "text/plain": [
              "0.7703619909502263"
            ]
          },
          "metadata": {
            "tags": []
          },
          "execution_count": 13
        }
      ]
    }
  ]
}