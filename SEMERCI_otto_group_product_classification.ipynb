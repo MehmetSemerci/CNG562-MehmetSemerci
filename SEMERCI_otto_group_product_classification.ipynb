{
  "nbformat": 4,
  "nbformat_minor": 0,
  "metadata": {
    "colab": {
      "name": "SEMERCI_otto_group_product_classification.ipynb",
      "version": "0.3.2",
      "provenance": [],
      "collapsed_sections": [],
      "include_colab_link": true
    },
    "kernelspec": {
      "name": "python3",
      "display_name": "Python 3"
    }
  },
  "cells": [
    {
      "cell_type": "markdown",
      "metadata": {
        "id": "view-in-github",
        "colab_type": "text"
      },
      "source": [
        "<a href=\"https://colab.research.google.com/github/MehmetSemerci/CNG562-MehmetSemerci/blob/master/SEMERCI_otto_group_product_classification.ipynb\" target=\"_parent\"><img src=\"https://colab.research.google.com/assets/colab-badge.svg\" alt=\"Open In Colab\"/></a>"
      ]
    },
    {
      "cell_type": "code",
      "metadata": {
        "id": "D-AHZAUhSOYD",
        "colab_type": "code",
        "colab": {}
      },
      "source": [
        "import pandas as pd\n",
        "import matplotlib.pyplot as plt\n",
        "import tensorflow as tf\n",
        "import numpy as np\n",
        "from sklearn.preprocessing import LabelEncoder\n",
        "from sklearn.utils import shuffle\n",
        "from sklearn.model_selection import train_test_split\n",
        "\n",
        "url = 'https://raw.githubusercontent.com/MehmetSemerci/CNG562-MehmetSemerci/master/OttoTrain.csv'\n",
        "df = pd.read_csv(url)\n",
        "\n",
        "\n",
        "df[df.columns[94]]=df[df.columns[94]].replace(\"Class_1\",1)\n",
        "df[df.columns[94]]=df[df.columns[94]].replace(\"Class_2\",2)\n",
        "df[df.columns[94]]=df[df.columns[94]].replace(\"Class_3\",3)\n",
        "df[df.columns[94]]=df[df.columns[94]].replace(\"Class_4\",4)\n",
        "df[df.columns[94]]=df[df.columns[94]].replace(\"Class_5\",5)\n",
        "df[df.columns[94]]=df[df.columns[94]].replace(\"Class_6\",6)\n",
        "df[df.columns[94]]=df[df.columns[94]].replace(\"Class_7\",7)\n",
        "df[df.columns[94]]=df[df.columns[94]].replace(\"Class_8\",8)\n",
        "df[df.columns[94]]=df[df.columns[94]].replace(\"Class_9\",9)\n"
      ],
      "execution_count": 0,
      "outputs": []
    },
    {
      "cell_type": "code",
      "metadata": {
        "id": "ORYBjqppnvDT",
        "colab_type": "code",
        "colab": {
          "base_uri": "https://localhost:8080/",
          "height": 318
        },
        "outputId": "0f1e8b9f-a28d-4e6d-8dff-75d0c56c8845"
      },
      "source": [
        "def one_hot_encode(labels):\n",
        "    n_labels = len(labels)\n",
        "    n_unique_labels = len(np.unique(labels))\n",
        "    one_hot_encode = np.zeros((n_labels,n_unique_labels))\n",
        "    one_hot_encode[np.arange(n_labels),labels]=1\n",
        "    return one_hot_encode\n",
        "\n",
        "\n",
        "\n",
        "X = df[df.columns[1:94]].values\n",
        "y = df[df.columns[94]]\n",
        "\n",
        "encoder = LabelEncoder()\n",
        "encoder.fit(y)\n",
        "y=encoder.transform(y)\n",
        "Y = one_hot_encode(y)\n",
        "X, Y = shuffle(X,Y,random_state=1)\n",
        "\n",
        "train_x, test_x, train_y, test_y = train_test_split(X,Y,test_size=0.2,random_state=1)\n",
        "\n",
        "learning_rate = 0.3\n",
        "training_epochs = 100\n",
        "cost_history = np.empty(shape=[1],dtype=float)\n",
        "n_dim = X.shape[1]\n",
        "\n",
        "n_class=9\n",
        "\n",
        "n_hidden_1=10\n",
        "n_hidden_2=10\n",
        "n_hidden_3=10\n",
        "n_hidden_4=10\n",
        "\n",
        "x = tf.placeholder(tf.float32,[None,n_dim])\n",
        "W = tf.Variable(tf.zeros([n_dim,n_class]))\n",
        "b = tf.Variable(tf.zeros([n_class]))\n",
        "y_= tf.placeholder(tf.float32,[None,n_class])\n",
        "\n",
        "\n",
        "\n",
        "\n",
        "def multilayer_perceptron(x,weights,biases):\n",
        "    \n",
        "    layer_1 = tf.add(tf.matmul(x,weights['h1']),biases['b1'])\n",
        "    layer_1 = tf.nn.sigmoid(layer_1)\n",
        "    \n",
        "    layer_2 = tf.add(tf.matmul(layer_1,weights['h2']),biases['b2'])\n",
        "    layer_2= tf.nn.sigmoid(layer_2)\n",
        "    \n",
        "    layer_3 = tf.add(tf.matmul(layer_2,weights['h3']),biases['b3'])\n",
        "    layer_3 = tf.nn.sigmoid(layer_3)\n",
        "    \n",
        "    layer_4 = tf.add(tf.matmul(layer_3,weights['h4']),biases['b4'])\n",
        "    layer_4 = tf.nn.sigmoid(layer_4)\n",
        "    \n",
        "    out_layer = tf.matmul(layer_4,weights['out'])+biases['out']\n",
        "    return out_layer\n",
        "\n",
        "weights ={\n",
        "    'h1':tf.Variable(tf.truncated_normal([n_dim,n_hidden_1])),\n",
        "    'h2':tf.Variable(tf.truncated_normal([n_hidden_1,n_hidden_2])),\n",
        "    'h3':tf.Variable(tf.truncated_normal([n_hidden_2,n_hidden_3])),\n",
        "    'h4':tf.Variable(tf.truncated_normal([n_hidden_3,n_hidden_4])),\n",
        "    'out':tf.Variable(tf.truncated_normal([n_hidden_3,n_class])),\n",
        "}\n",
        "\n",
        "biases ={\n",
        "    'b1': tf.Variable(tf.truncated_normal([n_hidden_1])),\n",
        "    'b2': tf.Variable(tf.truncated_normal([n_hidden_2])),\n",
        "    'b3': tf.Variable(tf.truncated_normal([n_hidden_3])),\n",
        "    'b4': tf.Variable(tf.truncated_normal([n_hidden_4])),\n",
        "    'out': tf.Variable(tf.truncated_normal([n_class])),\n",
        "}\n",
        "\n",
        "init = tf.global_variables_initializer()\n",
        "saver =tf.train.Saver()\n",
        "\n",
        "y=multilayer_perceptron(x,weights,biases)\n",
        "\n",
        "cost_function = tf.reduce_mean(tf.nn.softmax_cross_entropy_with_logits(logits=y,labels=y_))\n",
        "training_step = tf.train.GradientDescentOptimizer(learning_rate).minimize(cost_function)\n",
        "\n",
        "sess =tf.Session()\n",
        "sess.run(init)\n",
        "\n",
        "\n",
        "mse_history = []\n",
        "accuracy_history =[]\n",
        "\n",
        "for epoch in range(training_epochs):\n",
        "    sess.run(training_step,feed_dict={x:train_x,y_:train_y})\n",
        "    cost = sess.run(cost_function,feed_dict={x:train_x,y_:train_y})\n",
        "    cost_history = np.append(cost_history,cost)\n",
        "    correct_prediction = tf.equal(tf.argmax(y,1),tf.argmax(y_,1))\n",
        "    accuracy = tf.reduce_mean(tf.cast(correct_prediction,tf.float32))\n",
        "    \n",
        "    pred_y = sess.run(y,feed_dict={x:test_x})\n",
        "    mse = tf.reduce_mean(tf.square(pred_y - test_y))\n",
        "    mse_=sess.run(mse)\n",
        "    mse_history.append(mse_)\n",
        "    accuracy = (sess.run(accuracy,feed_dict={x: train_x, y_:train_y}))\n",
        "    accuracy_history.append(accuracy)\n",
        "    \n",
        "plt.plot(accuracy_history)\n",
        "plt.xlabel('Epoch')\n",
        "plt.ylabel('accuracy')\n",
        "plt.show()\n",
        "\n",
        "correct_prediction = tf.equal(tf.argmax(y,1),tf.argmax(y_,1))\n",
        "accuracy = tf.reduce_mean(tf.cast(correct_prediction,tf.float32))\n",
        "print(\"Test Accuracy: \",(sess.run(accuracy, feed_dict={x:test_x,y_:test_y})))\n",
        "\n",
        "\n",
        "pred_y = sess.run(y,feed_dict={x:test_x})\n",
        "mse = tf.reduce_mean(tf.square(pred_y -test_y))\n",
        "print(\"MSE: %.4f\"%sess.run(mse))\n",
        "    \n",
        "    \n",
        "    "
      ],
      "execution_count": 40,
      "outputs": [
        {
          "output_type": "display_data",
          "data": {
            "image/png": "[encoded data removed]",
            "text/plain": [
              "<Figure size 432x288 with 1 Axes>"
            ]
          },
          "metadata": {
            "tags": []
          }
        },
        {
          "output_type": "stream",
          "text": [
            "Test Accuracy:  0.30841953\n",
            "MSE: 0.5412\n"
          ],
          "name": "stdout"
        }
      ]
    },
    {
      "cell_type": "markdown",
      "metadata": {
        "id": "oHAZi2SqVaxK",
        "colab_type": "text"
      },
      "source": [
        "# New Section"
      ]
    }
  ]
}